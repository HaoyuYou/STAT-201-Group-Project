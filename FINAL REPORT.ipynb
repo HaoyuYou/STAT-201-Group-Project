{
 "cells": [
  {
   "cell_type": "markdown",
   "id": "7bb46266-a781-4e3a-a715-943b6b022202",
   "metadata": {
    "tags": []
   },
   "source": [
    "# FINAL REPORT"
   ]
  },
  {
   "cell_type": "markdown",
   "id": "66eff8d0-9987-4f0c-9bc7-94d04b7ff5c4",
   "metadata": {},
   "source": [
    "# **TITLE**"
   ]
  },
  {
   "cell_type": "markdown",
   "id": "9c925cb0-28ee-44fd-babf-ec0494343b61",
   "metadata": {},
   "source": [
    "### INTRODUCTION"
   ]
  },
  {
   "cell_type": "markdown",
   "id": "2fccc53a-246c-45dd-a27f-29c498f4cdc9",
   "metadata": {},
   "source": [
    "Statistics and data science are interrelated fields that focus on the collection, analysis, interpretation, presentation, and organization of data. By using statistical methods and models, data science is often used to extract valuable insights from voluminous data sets. These insights can be used to drive decision-making, strategies, and understanding of more complex systems.\n",
    "\n",
    "Music influences diverse aspects of human life and behaviour. Music streaming services, like spotify, have revolutionized the manner in which people consume music by providing a vast assortment of artists encompassing various genres and artistic origins. In this project, we will be focusing on a dataset called \"Top Spotify Songs 2023\" available on KAGGLE. This dataset holds information on various Spotify songs, their artists, where they rank, and various other features like the year of release, tempo, energy, and danceability. Spotify is one of the world's leading music streaming service providers, with over 345 million users, including 155 million subscribers, across 178 countries."
   ]
  },
  {
   "cell_type": "markdown",
   "id": "e7fb4346-0612-4c10-85e8-b38937e83507",
   "metadata": {
    "tags": []
   },
   "source": [
    "## FIX THE QUESTION TO EXPLAIN WHAT DANCEABILITY AND ENERGY ARE AND EXPLAIN WHY WE CHOSE THISE PARAMETERS]}}"
   ]
  },
  {
   "cell_type": "markdown",
   "id": "047011c6-6568-41a5-8a1f-e0f826de251c",
   "metadata": {},
   "source": [
    "This question allows us to assess two random variables of interest – *danceability and energy*, against the popularity measure (the response variable) on Spotify. As these features are continuous variables, they could be interpreted differently across the spectrum (lower, middle, high energy/danceability).\n",
    "\n",
    "In terms of the **location parameter**, we will be using the *mean*. The mean will give us the average danceability and energy rating for a song on Spotify, which we can then compare to its popularity. \n",
    "\n",
    "This allows us to see average tendencies in the dataset. \n",
    "\n",
    "For the **scale parameter**, we'll use *standard deviation*. As the standard deviation measures the amount of variation or dispersion of a set of values, it would be useful in evaluating how much the energy and danceability of songs vary and how this variation affects song popularity. Therefore, by understanding the average rating (mean) and the spread of ratings (standard deviation), we can make a more informed assessment about the connection between a song's energy, danceability, and its popularity on Spotify.  \n",
    "\n",
    "In conclusion, using basic statistical concepts like mean and standard deviation, we seek to better understand this dataset and uncover possibly hidden relationships, contributing to a more nuanced understanding of what traits may lead to a song's success on Spotify."
   ]
  },
  {
   "cell_type": "markdown",
   "id": "846da826-734b-4161-a44f-1f3b9de34aae",
   "metadata": {},
   "source": [
    "### METHODS AND RESULTS"
   ]
  },
  {
   "cell_type": "markdown",
   "id": "c56c7fd7-a937-487c-af80-fd49ddcccb28",
   "metadata": {},
   "source": [
    "Here is where you’ll include your work from the “Preliminary Results” in your proposal, along with the additional results you planned to conduct, as indicated in the “Methods: Plan” section of your proposal. Be sure to incorporate feedback from the teaching team and your peers (as relevant), or make any improvements based on your own improved understanding of the project (now that more time has passed since the proposal).\n",
    "\n",
    "Specifically, in addition to what is requested in the “Preliminary Results” section of the proposal, we are looking for the following components:\n",
    "\n",
    "Describe in written English the methods you used to perform your analysis from beginning to end that narrates the code the does the analysis.\n",
    "Make sure to interpret the results you obtain. It’s not enough to just state what a 90% confidence interval is, for example.\n",
    "Ensure your tables and/or figures are labeled with a figure/table number.\n",
    "Do you think one of bootstrapping or asymptotics is more appropriate than the other? Why or why not? Explain why you think both methods gave you similar/different results, and whether you think one is more trustworthy than the other."
   ]
  },
  {
   "cell_type": "markdown",
   "id": "288581f1-57a4-45c5-bd5e-81b3c279e77f",
   "metadata": {
    "tags": []
   },
   "source": [
    "### DISCUSSION"
   ]
  },
  {
   "cell_type": "markdown",
   "id": "a79ffae2-81fc-4eed-bdab-f41828470747",
   "metadata": {},
   "source": [
    "- Summarize what you found, and the implications/impact of your findings.\n",
    "- If relevant, discuss whether your results were what you expected to find.\n",
    "- Discuss future questions/research this study could lead to.\n"
   ]
  },
  {
   "cell_type": "markdown",
   "id": "28d89676-32e3-4026-b984-8a081c6e87a1",
   "metadata": {},
   "source": [
    "### REFERENCES"
   ]
  },
  {
   "cell_type": "markdown",
   "id": "d26179b1-2054-4d25-a42a-ae1ec52b126a",
   "metadata": {},
   "source": [
    "Al-Beitawi, Z., Salehan, M., & Zhang, S. (2020). What makes a song trend? cluster analysis of musical attributes for spotify top trending songs. Journal of Marketing Development and Competitiveness, 14(3), 79-91. Retrieved from https://www.proquest.com/scholarly-journals/what-makes-song-trend-cluster-analysis-musical/docview/2444523984/se-2\n"
   ]
  },
  {
   "cell_type": "markdown",
   "id": "bc9943c4-790d-4bd9-96eb-75dca3cd160b",
   "metadata": {},
   "source": [
    "\n",
    "Elgiriyewithana, N. (2023, September). Most Streamed Spotify Songs 2023. https://www.kaggle.com/datasets/nelgiriyewithana/top-spotify-songs-2023\n"
   ]
  },
  {
   "cell_type": "markdown",
   "id": "5d6e87e4-5bd4-49bc-bb00-c63d0cd36454",
   "metadata": {},
   "source": [
    "\n",
    "Vardo, L., Jerkić, J., & Žunić, E. (2023a). Predicting song success: Understanding track features and predicting popularity using Spotify Data. 2023 22nd International Symposium INFOTEH-JAHORINA (INFOTEH). https://doi.org/10.1109/infoteh57020.2023.10094172"
   ]
  },
  {
   "cell_type": "code",
   "execution_count": null,
   "id": "d9bc2884-76b2-4f93-926e-afe6e486e806",
   "metadata": {},
   "outputs": [],
   "source": []
  }
 ],
 "metadata": {
  "kernelspec": {
   "display_name": "R",
   "language": "R",
   "name": "ir"
  },
  "language_info": {
   "codemirror_mode": "r",
   "file_extension": ".r",
   "mimetype": "text/x-r-source",
   "name": "R",
   "pygments_lexer": "r",
   "version": "4.2.3"
  }
 },
 "nbformat": 4,
 "nbformat_minor": 5
}
