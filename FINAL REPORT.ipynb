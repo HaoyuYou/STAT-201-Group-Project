{
 "cells": [
  {
   "cell_type": "markdown",
   "id": "7bb46266-a781-4e3a-a715-943b6b022202",
   "metadata": {
    "tags": []
   },
   "source": [
    "# FINAL REPORT"
   ]
  },
  {
   "cell_type": "markdown",
   "id": "66eff8d0-9987-4f0c-9bc7-94d04b7ff5c4",
   "metadata": {
    "tags": []
   },
   "source": [
    "## th of Danceability and Energy on Popularity in Spotify's Music Landscape\""
   ]
  },
  {
   "cell_type": "markdown",
   "id": "9c925cb0-28ee-44fd-babf-ec0494343b61",
   "metadata": {},
   "source": [
    "### INTRODUCTION"
   ]
  },
  {
   "cell_type": "markdown",
   "id": "2fccc53a-246c-45dd-a27f-29c498f4cdc9",
   "metadata": {},
   "source": [
    "Music influences diverse aspects of human life and behaviour. Music streaming services, like spotify, have revolutionized the manner in which people consume music by providing a vast assortment of artists encompassing various genres and artistic origins. The question of what makes a song popular in this digital age has intrigued both music enthusiasts and researchers alike. Among the numerous factors contributing to a song's success, two key elements—danceability and energy—emerge as potential influencers. \n",
    "\n",
    "This project seeks to explore the statistical relationship between a song's danceability, energy, and its popularity on Spotify. We will be focusing on a dataset called \"Top Spotify Songs 2023\" available on KAGGLE. This dataset holds information on various Spotify songs, their artists, where they rank, and various other features like the year of release, tempo, energy, and danceability. Spotify is one of the world's leading music streaming service providers, with over 345 million users, including 155 million subscribers, across 178 countries."
   ]
  },
  {
   "cell_type": "markdown",
   "id": "c95e838b-6c87-4022-b3d1-f50d9ee6612c",
   "metadata": {},
   "source": [
    "#### Question: \"Does the danceability and energy of a song contribute to its popularity on Spotify?\""
   ]
  },
  {
   "cell_type": "markdown",
   "id": "be7613cd-7b95-4b21-8b2b-02c0eb24c64d",
   "metadata": {},
   "source": [
    "The variables being examined in our research are danceability and energy, which are both continuous measures that range from low to high values. These features include certain musical components.\n",
    "Danceability refers to the rhythmic components of a song that prompt physical movement and foster active participation from the listener. It encompasses elements like as tempo and rhythmic patterns, which determine a song's appropriateness for dancing or eliciting a physical reaction. Energy, however, comprises the strength and passion expressed in a musical performance. The track's emotional vitality, dynamics, and overall effect are reflected, which in turn influence the perceptions and engagement levels of listeners.\n",
    "Both of them are believed to have an impact on audience preferences in modern digital environment."
   ]
  },
  {
   "cell_type": "markdown",
   "id": "1f25585f-b455-4667-918b-5847ac1a58bc",
   "metadata": {},
   "source": [
    "##### Local Parameter: Mean"
   ]
  },
  {
   "cell_type": "markdown",
   "id": "be9aba10-b93d-420e-a545-784e297b1a2e",
   "metadata": {},
   "source": [
    "By computing the average danceability and energy ratings, we obtain a unique value that signifies the typical or average level of these characteristics among the songs in the dataset. This value serves as a crucial benchmark, enabling us to assess the overall patterns of rhythm and energy in the music accessible on Spotify. Analyzing the average danceability and energy ratings of songs or categories allows us to detect patterns or differences in musical attributes. \n"
   ]
  },
  {
   "cell_type": "markdown",
   "id": "93ef5503-cee7-481a-8861-7e1fd674f053",
   "metadata": {},
   "source": [
    "##### Scale Parameter: Standard Deviation"
   ]
  },
  {
   "cell_type": "markdown",
   "id": "bc026b2d-edab-4fe5-9714-80360ac75f4e",
   "metadata": {},
   "source": [
    "The standard deviation quantifies the spread or dispersion of data points around the mean. In the context of danceability and energy ratings, it indicates how much individual song ratings deviate from the average within the dataset. Analyze the variability in danceability and energy ratings to gain a deeper understanding of the range of musical characteristics that influence the popularity of a song. It offers a measure of how much the popularity varies among songs within the same level of danceability or energy."
   ]
  },
  {
   "cell_type": "markdown",
   "id": "f94d0756-bbc2-4849-b676-f9d25885d423",
   "metadata": {},
   "source": [
    "Through the mean, we aim to understand the average danceability and energy ratings of songs, providing insights into the predominant characteristics seen in the Spotify collection. Meanwhile, the standard deviation enables us to explore in further detail the extent to which these features vary and how this variation is connected to the popularity of a song."
   ]
  },
  {
   "cell_type": "markdown",
   "id": "846da826-734b-4161-a44f-1f3b9de34aae",
   "metadata": {},
   "source": [
    "### METHODS AND RESULTS"
   ]
  },
  {
   "cell_type": "markdown",
   "id": "c56c7fd7-a937-487c-af80-fd49ddcccb28",
   "metadata": {},
   "source": [
    "Here is where you’ll include your work from the “Preliminary Results” in your proposal, along with the additional results you planned to conduct, as indicated in the “Methods: Plan” section of your proposal. Be sure to incorporate feedback from the teaching team and your peers (as relevant), or make any improvements based on your own improved understanding of the project (now that more time has passed since the proposal).\n",
    "\n",
    "Specifically, in addition to what is requested in the “Preliminary Results” section of the proposal, we are looking for the following components:\n",
    "\n",
    "Describe in written English the methods you used to perform your analysis from beginning to end that narrates the code the does the analysis.\n",
    "Make sure to interpret the results you obtain. It’s not enough to just state what a 90% confidence interval is, for example.\n",
    "Ensure your tables and/or figures are labeled with a figure/table number.\n",
    "Do you think one of bootstrapping or asymptotics is more appropriate than the other? Why or why not? Explain why you think both methods gave you similar/different results, and whether you think one is more trustworthy than the other."
   ]
  },
  {
   "cell_type": "markdown",
   "id": "288581f1-57a4-45c5-bd5e-81b3c279e77f",
   "metadata": {
    "tags": []
   },
   "source": [
    "### DISCUSSION"
   ]
  },
  {
   "cell_type": "markdown",
   "id": "a79ffae2-81fc-4eed-bdab-f41828470747",
   "metadata": {},
   "source": [
    "- Summarize what you found, and the implications/impact of your findings.\n",
    "- If relevant, discuss whether your results were what you expected to find.\n",
    "- Discuss future questions/research this study could lead to.\n"
   ]
  },
  {
   "cell_type": "markdown",
   "id": "28d89676-32e3-4026-b984-8a081c6e87a1",
   "metadata": {},
   "source": [
    "### REFERENCES"
   ]
  },
  {
   "cell_type": "markdown",
   "id": "d26179b1-2054-4d25-a42a-ae1ec52b126a",
   "metadata": {},
   "source": [
    "Al-Beitawi, Z., Salehan, M., & Zhang, S. (2020). What makes a song trend? cluster analysis of musical attributes for spotify top trending songs. Journal of Marketing Development and Competitiveness, 14(3), 79-91. Retrieved from https://www.proquest.com/scholarly-journals/what-makes-song-trend-cluster-analysis-musical/docview/2444523984/se-2\n"
   ]
  },
  {
   "cell_type": "markdown",
   "id": "bc9943c4-790d-4bd9-96eb-75dca3cd160b",
   "metadata": {},
   "source": [
    "\n",
    "Elgiriyewithana, N. (2023, September). Most Streamed Spotify Songs 2023. https://www.kaggle.com/datasets/nelgiriyewithana/top-spotify-songs-2023\n"
   ]
  },
  {
   "cell_type": "markdown",
   "id": "5d6e87e4-5bd4-49bc-bb00-c63d0cd36454",
   "metadata": {},
   "source": [
    "\n",
    "Vardo, L., Jerkić, J., & Žunić, E. (2023a). Predicting song success: Understanding track features and predicting popularity using Spotify Data. 2023 22nd International Symposium INFOTEH-JAHORINA (INFOTEH). https://doi.org/10.1109/infoteh57020.2023.10094172"
   ]
  },
  {
   "cell_type": "code",
   "execution_count": null,
   "id": "d9bc2884-76b2-4f93-926e-afe6e486e806",
   "metadata": {},
   "outputs": [],
   "source": []
  }
 ],
 "metadata": {
  "kernelspec": {
   "display_name": "R",
   "language": "R",
   "name": "ir"
  },
  "language_info": {
   "codemirror_mode": "r",
   "file_extension": ".r",
   "mimetype": "text/x-r-source",
   "name": "R",
   "pygments_lexer": "r",
   "version": "4.2.3"
  }
 },
 "nbformat": 4,
 "nbformat_minor": 5
}
