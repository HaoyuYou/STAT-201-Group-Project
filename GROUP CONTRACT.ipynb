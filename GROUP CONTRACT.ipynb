{
 "cells": [
  {
   "cell_type": "markdown",
   "id": "e0ba97ad-93fd-4b29-87e5-aae19842e14e",
   "metadata": {
    "tags": []
   },
   "source": [
    "# **GROUP CONTRACT**"
   ]
  },
  {
   "cell_type": "markdown",
   "id": "c2e2c1ee-c63c-4f1d-9117-7c781b514665",
   "metadata": {},
   "source": [
    "### GOALS"
   ]
  },
  {
   "cell_type": "markdown",
   "id": "ac9cecf0-d554-4e37-8927-53e381bd4066",
   "metadata": {
    "tags": []
   },
   "source": [
    "- **What are our team goals for this project?**\n",
    "\n",
    " To deliver a high-quality project on the required due date.\n",
    " \n",
    "- **What do we want to accomplish?**\n",
    "\n",
    " To acquire and refine our technical and teamwork skills including project management, communication, and technical competencies related to the project.\n",
    "\n",
    "- **What skills do we want to develop or refine?**\n",
    "\n",
    " To enhance our understanding of the project topic and further explore its applications and implications."
   ]
  },
  {
   "cell_type": "markdown",
   "id": "95e97218-c4b0-4925-aa40-e493c5968daa",
   "metadata": {},
   "source": [
    "### EXPECTATIONS"
   ]
  },
  {
   "cell_type": "markdown",
   "id": "f408d6bf-e82e-41cf-b24e-5824eb986a75",
   "metadata": {},
   "source": [
    "- **What do we expect of one another regarding attendance at meetings, participation, frequency of communication, quality of work, etc.?**\n",
    "\n",
    " Attendance: Every member is expected to be present at all scheduled meetings. If one cannot attend, notice should be given beforehand.\n",
    " \n",
    "Participation: All members are expected to actively participate in meetings and discussions, and equally contribute to the work.\n",
    "\n",
    "Communication: Regular communication is essential. We'll use instagram to keep all members updated.\n",
    "\n",
    "Quality of work: All members should complete their tasks to the best of their abilities.\n",
    "\n",
    "- **What are our internal deadlines? (Warning: if working on separate parts, do not aim to put all the parts together on the last day – it takes time to integrate multiple parts.)**\n",
    "\n",
    "We will set internal deadlines for each task, and a final deadline two or three days prior to the due date allowing ample time to integrate multiple parts together before the final submission."
   ]
  },
  {
   "cell_type": "markdown",
   "id": "d2b0d94c-cb40-40b7-a4c5-abb046df1de7",
   "metadata": {},
   "source": [
    "### POLICIES AND PROCEDURES"
   ]
  },
  {
   "cell_type": "markdown",
   "id": "79603269-4074-4cb8-86b6-7a4b54a29c83",
   "metadata": {},
   "source": [
    "- What rules can we agree on to help us meet our goals and expectations?"
   ]
  },
  {
   "cell_type": "markdown",
   "id": "627475b7-1daa-40b9-a1ee-79bd871cb4d3",
   "metadata": {
    "tags": []
   },
   "source": [
    "### CONSEQUENCES"
   ]
  },
  {
   "cell_type": "markdown",
   "id": "74da0758-508b-4662-a639-81656cd4ae1c",
   "metadata": {},
   "source": [
    "- How will we address non-performance regarding these goals, expectations, policies and procedures?"
   ]
  },
  {
   "cell_type": "markdown",
   "id": "26d2a032-440f-4dab-aca2-3aa520541711",
   "metadata": {},
   "source": [
    "### MEMBER SIGNATURES:"
   ]
  },
  {
   "cell_type": "markdown",
   "id": "f80bcf30-dee5-4dcd-9eea-65870edad14d",
   "metadata": {},
   "source": [
    "- CHHAVI NAYYAR\n",
    "\n",
    "- JAKE ANDERSEN-LUM\n",
    "\n",
    "- HAOYU YOU\n",
    "\n",
    "- "
   ]
  },
  {
   "cell_type": "code",
   "execution_count": null,
   "id": "c6e3e961-b59b-4145-b953-e12ff75101bf",
   "metadata": {},
   "outputs": [],
   "source": []
  }
 ],
 "metadata": {
  "kernelspec": {
   "display_name": "R",
   "language": "R",
   "name": "ir"
  },
  "language_info": {
   "codemirror_mode": "r",
   "file_extension": ".r",
   "mimetype": "text/x-r-source",
   "name": "R",
   "pygments_lexer": "r",
   "version": "4.2.3"
  }
 },
 "nbformat": 4,
 "nbformat_minor": 5
}
