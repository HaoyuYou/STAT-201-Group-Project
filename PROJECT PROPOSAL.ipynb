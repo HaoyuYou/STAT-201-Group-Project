{
 "cells": [
  {
   "cell_type": "markdown",
   "id": "ded4a969-76d5-4fe8-baed-056ec72abc0c",
   "metadata": {},
   "source": [
    "# **PROJECT PROPOSAL**"
   ]
  },
  {
   "cell_type": "markdown",
   "id": "a1e3a11d-682d-4298-8c8c-ffaf20e08be3",
   "metadata": {},
   "source": [
    "### INTRODUCTION"
   ]
  },
  {
   "cell_type": "markdown",
   "id": "75201cc4-070e-4e11-8f81-5b7bb8115200",
   "metadata": {},
   "source": [
    "### PRELIMINARY RESULTS"
   ]
  },
  {
   "cell_type": "markdown",
   "id": "2264b28b-715a-46d1-b20d-848dee310cc7",
   "metadata": {},
   "source": []
  },
  {
   "cell_type": "code",
   "execution_count": null,
   "id": "024e75d1-2c78-4b0b-abfd-f2232606de71",
   "metadata": {},
   "outputs": [],
   "source": []
  }
 ],
 "metadata": {
  "kernelspec": {
   "display_name": "R",
   "language": "R",
   "name": "ir"
  },
  "language_info": {
   "codemirror_mode": "r",
   "file_extension": ".r",
   "mimetype": "text/x-r-source",
   "name": "R",
   "pygments_lexer": "r",
   "version": "4.2.3"
  }
 },
 "nbformat": 4,
 "nbformat_minor": 5
}
