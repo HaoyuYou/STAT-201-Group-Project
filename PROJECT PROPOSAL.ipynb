{
 "cells": [
  {
   "cell_type": "markdown",
   "id": "ded4a969-76d5-4fe8-baed-056ec72abc0c",
   "metadata": {},
   "source": [
    "# **PROJECT PROPOSAL**"
   ]
  },
  {
   "cell_type": "markdown",
   "id": "a1e3a11d-682d-4298-8c8c-ffaf20e08be3",
   "metadata": {},
   "source": [
    "### INTRODUCTION"
   ]
  },
  {
   "cell_type": "markdown",
   "id": "49b7a2df-075e-4cbe-88c3-8f8bf6f8b963",
   "metadata": {},
   "source": [
    "Statistics and data science are interrelated fields that focus on the collection, analysis, interpretation, presentation, and organization of data. By using statistical methods and models, data science is often used to extract valuable insights from voluminous data sets. These insights can be used to drive decision-making, strategies, and understanding of more complex systems.\n",
    "\n",
    "In this project, we will be focusing on a dataset called \"Top Spotify Songs 2023\" available on KAGGLE. This dataset holds information on various Spotify songs, their artists, where they rank, and various other features like the year of release, tempo, energy, and danceability. Spotify is one of the world's leading music streaming service providers, with over 345 million users, including 155 million subscribers, across 178 countries."
   ]
  },
  {
   "cell_type": "markdown",
   "id": "c3614f65-7e51-401b-b57b-5e2485cea019",
   "metadata": {},
   "source": [
    "#### Question: \"Does the danceability and energy of a song contribute to its popularity on Spotify?\""
   ]
  },
  {
   "cell_type": "markdown",
   "id": "5164e04a-c323-4baa-a126-544bfee9202d",
   "metadata": {},
   "source": [
    "This question allows us to assess two random variables of interest – *danceability and energy*, against the popularity measure (the response variable) on Spotify. As these features are continuous variables, they could be interpreted differently across the spectrum (lower, middle, high energy/danceability).\n",
    "\n",
    "In terms of the **location parameter**, we will be using the *mean*. The mean will give us the average danceability and energy rating for a song on Spotify, which we can then compare to its popularity. \n",
    "\n",
    "This allows us to see average tendencies in the dataset. \n",
    "\n",
    "For the **scale parameter**, we'll use *standard deviation*. As the standard deviation measures the amount of variation or dispersion of a set of values, it would be useful in evaluating how much the energy and danceability of songs vary and how this variation affects song popularity. Therefore, by understanding the average rating (mean) and the spread of ratings (standard deviation), we can make a more informed assessment about the connection between a song's energy, danceability, and its popularity on Spotify.  \n",
    "\n",
    "In conclusion, using basic statistical concepts like mean and standard deviation, we seek to better understand this dataset and uncover possibly hidden relationships, contributing to a more nuanced understanding of what traits may lead to a song's success on Spotify."
   ]
  },
  {
   "cell_type": "markdown",
   "id": "75201cc4-070e-4e11-8f81-5b7bb8115200",
   "metadata": {},
   "source": [
    "### PRELIMINARY RESULTS"
   ]
  },
  {
   "cell_type": "code",
   "execution_count": null,
   "id": "6938629c-d956-4af3-a752-8ef47c07dcba",
   "metadata": {
    "tags": []
   },
   "outputs": [],
   "source": [
    "library(tidyverse)\n",
    "library(repr)\n",
    "library(datateachr)\n",
    "library(digest)\n",
    "library(infer)\n",
    "library(gridExtra)\n",
    "library(cowplot)\n",
    "\n",
    "spotify_original <- read_csv(\"https://drive.google.com/uc?export=download&id=1UQy2DuHB0IszFK4ZVgA20xDIWBHI4eTe\")\n",
    "\n",
    "spotify <- spotify_original %>%\n",
    "    select(\"track_name\", \"streams\", \"danceability_%\", \"energy_%\") %>%\n",
    "    rename(\"danceability\" = \"danceability_%\", \"energy\" = \"energy_%\") %>%\n",
    "    mutate(streams = as.double(streams) / 1000000,\n",
    "           danceability = as.integer(danceability), \n",
    "           energy = as.integer(energy)) %>%\n",
    "    filter(if_all(everything(), ~!is.na(.)))\n",
    "\n",
    "bottom_third_boundary_energy <- spotify %>%\n",
    "    select(energy) %>%\n",
    "    pull() %>%\n",
    "    quantile(1/3)\n",
    "\n",
    "top_third_boundary_energy <- spotify %>%\n",
    "    select(energy) %>%\n",
    "    pull() %>%\n",
    "    quantile(2/3)\n",
    "\n",
    "bottom_third_boundary_danceability <- spotify %>%\n",
    "    select(danceability) %>%\n",
    "    pull() %>%\n",
    "    quantile(1/3)\n",
    "\n",
    "top_third_boundary_danceability <- spotify %>%\n",
    "    select(danceability) %>%\n",
    "    pull() %>%\n",
    "    quantile(2/3)\n",
    "\n",
    "spotify_energy_categories <- spotify %>%\n",
    "    mutate(energy = cut(energy, breaks = c(0, bottom_third_boundary_energy, top_third_boundary_energy, Inf), \n",
    "                                  labels = c(\"Low Energy\", \"Medium Energy\", \"High Energy\")))\n",
    "\n",
    "spotify_danceability_categories <- spotify %>%\n",
    "    mutate(danceability = cut(danceability, breaks = c(0, bottom_third_boundary_danceability, top_third_boundary_danceability, Inf), \n",
    "                                  labels = c(\"Low Danceability\", \"Medium Danceability\", \"High Danceability\")))"
   ]
  },
  {
   "cell_type": "code",
   "execution_count": null,
   "id": "a743c8f1-f29e-4e28-bdef-c84e384a9ee1",
   "metadata": {
    "tags": []
   },
   "outputs": [],
   "source": [
    "options(repr.plot.width = 8.5, repr.plot.height = 5)\n",
    "\n",
    "spotify_vis_danceability_streams <- spotify %>%\n",
    "    ggplot(aes(x = danceability, y = streams)) +\n",
    "      geom_point(alpha = 0.3, shape = 16) +\n",
    "      labs(x = \"Danceability (%)\", y = \"Streams (Millions)\") +\n",
    "      theme_minimal()\n",
    "\n",
    "spotify_vis_energy_streams <- spotify %>%\n",
    "    ggplot(aes(x = energy, y = streams)) +\n",
    "      geom_point(alpha = 0.3, shape = 16) +\n",
    "      labs(x = \"Energy (%)\", y = \"Streams (Millions)\") +\n",
    "      theme_minimal()\n",
    "\n",
    "spotify_vis_energy <- spotify %>%\n",
    "    ggplot(aes(y = energy)) +\n",
    "        geom_histogram(bins = 15, color = \"lightgray\", linewidth = 0.2) +\n",
    "        ylab(\"Energy (%)\") +\n",
    "        theme_minimal()\n",
    "\n",
    "spotify_vis_danceability <- spotify %>%\n",
    "    ggplot(aes(y = danceability)) +\n",
    "        geom_histogram(bins = 15, color = \"lightgray\", linewidth = 0.2) +\n",
    "        ylab(\"Danceability (%)\") +\n",
    "        theme_minimal()\n",
    "\n",
    "spotify_vis_streams <- spotify %>%\n",
    "    ggplot(aes(y = streams)) +\n",
    "        geom_histogram(bins = 15, color = \"lightgray\", linewidth = 0.2) +\n",
    "        ylab(\"Streams (Millions)\") +\n",
    "        theme_minimal()\n",
    "\n",
    "combined_plot_scatter <- plot_grid(spotify_vis_danceability_streams, spotify_vis_energy_streams, \n",
    "                                   labels = c(\"Danceability vs Streams\", \"Energy vs Streams\"), ncol = 1)\n",
    "\n",
    "combined_plot_hist <- plot_grid(spotify_vis_streams, spotify_vis_energy, spotify_vis_danceability,\n",
    "                                labels = c(\"Streams Histogram\", \"Energy Histogram\", \n",
    "                                           \"Danceability Histogram\"), ncol = 3)\n",
    "\n",
    "streams_energy <- spotify_energy_categories %>%\n",
    "    group_by(energy) %>%\n",
    "    summarize(mean_streams = mean(streams),\n",
    "              standard_deviation_streams = sd(streams))\n",
    "\n",
    "streams_danceability <- spotify_danceability_categories %>%\n",
    "    group_by(danceability) %>%\n",
    "    summarize(mean_streams = mean(streams),\n",
    "              standard_deviation_streams = sd(streams))\n",
    "\n",
    "combined_plot_scatter\n",
    "\n",
    "combined_plot_hist\n",
    "\n",
    "streams_energy\n",
    "\n",
    "streams_danceability\n",
    "\n"
   ]
  },
  {
   "cell_type": "markdown",
   "id": "e05a363d-2dd0-430e-9537-99e34c2a0921",
   "metadata": {
    "tags": []
   },
   "source": [
    "### METHODS: PLAN"
   ]
  },
  {
   "cell_type": "markdown",
   "id": "365094f0-4b4a-4c7d-a9ae-fdf12780a8c7",
   "metadata": {},
   "source": [
    "### REFERENCES"
   ]
  },
  {
   "cell_type": "code",
   "execution_count": null,
   "id": "79504ecb-01a3-4a73-923a-9c788798fa5a",
   "metadata": {},
   "outputs": [],
   "source": []
  }
 ],
 "metadata": {
  "kernelspec": {
   "display_name": "R",
   "language": "R",
   "name": "ir"
  },
  "language_info": {
   "codemirror_mode": "r",
   "file_extension": ".r",
   "mimetype": "text/x-r-source",
   "name": "R",
   "pygments_lexer": "r",
   "version": "4.2.3"
  }
 },
 "nbformat": 4,
 "nbformat_minor": 5
}
