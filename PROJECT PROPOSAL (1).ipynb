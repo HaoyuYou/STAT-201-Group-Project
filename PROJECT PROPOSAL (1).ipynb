{
 "cells": [
  {
   "cell_type": "markdown",
   "id": "ded4a969-76d5-4fe8-baed-056ec72abc0c",
   "metadata": {},
   "source": [
    "# **PROJECT PROPOSAL**"
   ]
  },
  {
   "cell_type": "markdown",
   "id": "a1e3a11d-682d-4298-8c8c-ffaf20e08be3",
   "metadata": {},
   "source": [
    "### INTRODUCTION"
   ]
  },
  {
   "cell_type": "markdown",
   "id": "49b7a2df-075e-4cbe-88c3-8f8bf6f8b963",
   "metadata": {},
   "source": [
    "Statistics and data science are interrelated fields that focus on the collection, analysis, interpretation, presentation, and organization of data. By using statistical methods and models, data science is often used to extract valuable insights from voluminous data sets. These insights can be used to drive decision-making, strategies, and understanding of more complex systems.\n",
    "\n",
    "In this project, we will be focusing on a dataset called \"Top Spotify Songs 2023\" available on KAGGLE. This dataset holds information on various Spotify songs, their artists, where they rank, and various other features like the year of release, tempo, energy, and danceability. Spotify is one of the world's leading music streaming service providers, with over 345 million users, including 155 million subscribers, across 178 countries."
   ]
  },
  {
   "cell_type": "markdown",
   "id": "c3614f65-7e51-401b-b57b-5e2485cea019",
   "metadata": {},
   "source": [
    "#### Question : \"Does the danceability and energy of a song contribute to its popularity on Spotify?\""
   ]
  },
  {
   "cell_type": "markdown",
   "id": "5164e04a-c323-4baa-a126-544bfee9202d",
   "metadata": {},
   "source": [
    "This question allows us to assess two random variables of interest – *danceability and energy*, against the popularity measure (the response variable) on Spotify. As these features are continuous variables, they could be interpreted differently across the spectrum (lower, middle, high energy/danceability).\n",
    "\n",
    "In terms of the **location parameter**, we will be using the *mean*. The mean will give us the average danceability and energy rating for a song on Spotify, which we can then compare to its popularity. \n",
    "\n",
    "This allows us to see average tendencies in the dataset. \n",
    "\n",
    "For the **scale parameter**, we'll use *standard deviation*. As the standard deviation measures the amount of variation or dispersion of a set of values, it would be useful in evaluating how much the energy and danceability of songs vary and how this variation affects song popularity. Therefore, by understanding the average rating (mean) and the spread of ratings (standard deviation), we can make a more informed assessment about the connection between a song's energy, danceability, and its popularity on Spotify.  \n",
    "\n",
    "In conclusion, using basic statistical concepts like mean and standard deviation, we seek to better understand this dataset and uncover possibly hidden relationships, contributing to a more nuanced understanding of what traits may lead to a song's success on Spotify."
   ]
  },
  {
   "cell_type": "markdown",
   "id": "75201cc4-070e-4e11-8f81-5b7bb8115200",
   "metadata": {},
   "source": [
    "### PRELIMINARY RESULTS"
   ]
  },
  {
   "cell_type": "code",
   "execution_count": null,
   "id": "6938629c-d956-4af3-a752-8ef47c07dcba",
   "metadata": {},
   "outputs": [],
   "source": []
  },
  {
   "cell_type": "markdown",
   "id": "e05a363d-2dd0-430e-9537-99e34c2a0921",
   "metadata": {
    "tags": []
   },
   "source": [
    "### METHODS: PLAN"
   ]
  },
  {
   "cell_type": "markdown",
   "id": "365094f0-4b4a-4c7d-a9ae-fdf12780a8c7",
   "metadata": {},
   "source": [
    "### REFERENCES"
   ]
  },
  {
   "cell_type": "code",
   "execution_count": null,
   "id": "79504ecb-01a3-4a73-923a-9c788798fa5a",
   "metadata": {},
   "outputs": [],
   "source": []
  }
 ],
 "metadata": {
  "kernelspec": {
   "display_name": "R",
   "language": "R",
   "name": "ir"
  },
  "language_info": {
   "codemirror_mode": "r",
   "file_extension": ".r",
   "mimetype": "text/x-r-source",
   "name": "R",
   "pygments_lexer": "r",
   "version": "4.2.3"
  }
 },
 "nbformat": 4,
 "nbformat_minor": 5
}
